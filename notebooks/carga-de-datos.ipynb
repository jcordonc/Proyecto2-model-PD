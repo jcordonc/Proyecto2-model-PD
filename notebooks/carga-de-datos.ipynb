{
 "cells": [
  {
   "cell_type": "code",
   "execution_count": null,
   "metadata": {},
   "outputs": [],
   "source": [
    "import pandas as pd\n",
    "import numpy as np\n",
    "import matplotlib.pyplot as plt\n",
    "import seaborn as sns\n",
    "import os\n",
    "\n",
    "from sklearn.impute import SimpleImputer\n",
    "from sklearn.preprocessing import StandardScaler, RobustScaler"
   ]
  },
  {
   "cell_type": "markdown",
   "metadata": {},
   "source": [
    "# 1. Cargamos los datos"
   ]
  },
  {
   "cell_type": "markdown",
   "metadata": {},
   "source": [
    "Primero, vamos a importar los datos desde los archivos CSV que se encuentran en la carpeta historial pilas. Necesitamos unir un total de 186 archivos en un solo conjunto de datos."
   ]
  },
  {
   "cell_type": "code",
   "execution_count": null,
   "metadata": {},
   "outputs": [],
   "source": [
    "# Ruta de la carpeta donde están los archivos CSV\n",
    "folder_path = r\"../data/raw/train/HistorialPilas\"\n",
    "\n",
    "# Obtener la lista de todos los archivos CSV en la carpeta\n",
    "csv_files = [file for file in os.listdir(folder_path) if file.endswith('.csv')]\n",
    "\n",
    "# Crear una lista para almacenar los DataFrames\n",
    "dataframes = []\n",
    "\n",
    "# Leer cada archivo CSV y agregarlo a la lista de DataFrames\n",
    "for csv_file in csv_files:\n",
    "    file_path = os.path.join(folder_path, csv_file)\n",
    "    df = pd.read_csv(file_path)\n",
    "    dataframes.append(df)\n",
    "\n",
    "# Concatenar todos los DataFrames en uno solo\n",
    "df_pilas = pd.concat(dataframes, ignore_index=True)\n",
    "\n",
    "# Mostrar una vista previa del DataFrame combinado\n",
    "df_pilas.head()\n",
    "\n",
    "# (Opcional) Mostrar los primeros registros para comprobar el resultado\n",
    "# combined_df.head()"
   ]
  },
  {
   "cell_type": "markdown",
   "metadata": {},
   "source": [
    "Usamos una expresión regular (regex) para extraer únicamente el número de pila de los datos y lo añadimos como una nueva columna llamada idPila."
   ]
  },
  {
   "cell_type": "code",
   "execution_count": null,
   "metadata": {},
   "outputs": [],
   "source": [
    "# Aplicar regex para extraer el primer número después de la palabra \"Pila\"\n",
    "df_pilas['idPila'] = df_pilas[' Mound'].str.extract(r'Pila (\\d+)', expand=False)\n",
    "df_pilas"
   ]
  },
  {
   "cell_type": "markdown",
   "metadata": {},
   "source": [
    "Ahora cargamos el archivo excel de los datos de calidad"
   ]
  },
  {
   "cell_type": "code",
   "execution_count": null,
   "metadata": {},
   "outputs": [],
   "source": [
    "df_QCX = pd.read_excel(\"../data/raw/train/dataQCX.xlsx\")\n",
    "df_QCX.head()"
   ]
  },
  {
   "cell_type": "code",
   "execution_count": null,
   "metadata": {},
   "outputs": [],
   "source": [
    "%store df_QCX"
   ]
  },
  {
   "cell_type": "code",
   "execution_count": null,
   "metadata": {},
   "outputs": [],
   "source": [
    "%store df_pilas"
   ]
  }
 ],
 "metadata": {
  "kernelspec": {
   "display_name": "venv-ProyectoFinal",
   "language": "python",
   "name": "python3"
  },
  "language_info": {
   "codemirror_mode": {
    "name": "ipython",
    "version": 3
   },
   "file_extension": ".py",
   "mimetype": "text/x-python",
   "name": "python",
   "nbconvert_exporter": "python",
   "pygments_lexer": "ipython3",
   "version": "3.13.0"
  }
 },
 "nbformat": 4,
 "nbformat_minor": 2
}
